{
 "cells": [
  {
   "cell_type": "code",
   "execution_count": 1,
   "metadata": {},
   "outputs": [],
   "source": [
    "# read csv\n",
    "import csv\n",
    "def read_csv(csv_name, verbose=False):\n",
    "    with open(csv_name) as csv_file:\n",
    "        reader = csv.reader(csv_file)\n",
    "        header = next(reader)\n",
    "        if verbose:\n",
    "            print(header)\n",
    "        rows = []\n",
    "        for row in reader:\n",
    "            rows.append(row)\n",
    "\n",
    "    x = []\n",
    "    for row in rows:\n",
    "        x.append(row[2][1:])\n",
    "    if verbose:\n",
    "        print(x)\n",
    "    return rows, x"
   ]
  },
  {
   "cell_type": "code",
   "execution_count": null,
   "metadata": {},
   "outputs": [],
   "source": []
  }
 ],
 "metadata": {
  "kernelspec": {
   "display_name": "Python 3",
   "language": "python",
   "name": "python3"
  },
  "language_info": {
   "codemirror_mode": {
    "name": "ipython",
    "version": 3
   },
   "file_extension": ".py",
   "mimetype": "text/x-python",
   "name": "python",
   "nbconvert_exporter": "python",
   "pygments_lexer": "ipython3",
   "version": "3.7.3"
  }
 },
 "nbformat": 4,
 "nbformat_minor": 4
}
